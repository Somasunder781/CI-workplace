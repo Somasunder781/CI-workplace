{
 "cells": [
  {
   "cell_type": "markdown",
   "metadata": {},
   "source": [
    "# Water Quality Prediction Using ANN"
   ]
  },
  {
   "cell_type": "code",
   "execution_count": 38,
   "metadata": {},
   "outputs": [],
   "source": [
    "import pandas as pd\n",
    "import numpy as np\n",
    "from IPython.display import Image"
   ]
  },
  {
   "cell_type": "code",
   "execution_count": 39,
   "metadata": {},
   "outputs": [],
   "source": [
    "#Loading the dataset water_potability.csv with pandas\n",
    "df = pd.read_csv('water_potability.csv')"
   ]
  },
  {
   "cell_type": "code",
   "execution_count": 40,
   "metadata": {},
   "outputs": [
    {
     "data": {
      "text/html": [
       "<div>\n",
       "<style scoped>\n",
       "    .dataframe tbody tr th:only-of-type {\n",
       "        vertical-align: middle;\n",
       "    }\n",
       "\n",
       "    .dataframe tbody tr th {\n",
       "        vertical-align: top;\n",
       "    }\n",
       "\n",
       "    .dataframe thead th {\n",
       "        text-align: right;\n",
       "    }\n",
       "</style>\n",
       "<table border=\"1\" class=\"dataframe\">\n",
       "  <thead>\n",
       "    <tr style=\"text-align: right;\">\n",
       "      <th></th>\n",
       "      <th>ph</th>\n",
       "      <th>Hardness</th>\n",
       "      <th>Solids</th>\n",
       "      <th>Chloramines</th>\n",
       "      <th>Sulfate</th>\n",
       "      <th>Conductivity</th>\n",
       "      <th>Organic_carbon</th>\n",
       "      <th>Trihalomethanes</th>\n",
       "      <th>Turbidity</th>\n",
       "      <th>Potability</th>\n",
       "    </tr>\n",
       "  </thead>\n",
       "  <tbody>\n",
       "    <tr>\n",
       "      <th>0</th>\n",
       "      <td>NaN</td>\n",
       "      <td>204.890455</td>\n",
       "      <td>20791.318981</td>\n",
       "      <td>7.300212</td>\n",
       "      <td>368.516441</td>\n",
       "      <td>564.308654</td>\n",
       "      <td>10.379783</td>\n",
       "      <td>86.990970</td>\n",
       "      <td>2.963135</td>\n",
       "      <td>0</td>\n",
       "    </tr>\n",
       "    <tr>\n",
       "      <th>1</th>\n",
       "      <td>3.716080</td>\n",
       "      <td>129.422921</td>\n",
       "      <td>18630.057858</td>\n",
       "      <td>6.635246</td>\n",
       "      <td>NaN</td>\n",
       "      <td>592.885359</td>\n",
       "      <td>15.180013</td>\n",
       "      <td>56.329076</td>\n",
       "      <td>4.500656</td>\n",
       "      <td>0</td>\n",
       "    </tr>\n",
       "    <tr>\n",
       "      <th>2</th>\n",
       "      <td>8.099124</td>\n",
       "      <td>224.236259</td>\n",
       "      <td>19909.541732</td>\n",
       "      <td>9.275884</td>\n",
       "      <td>NaN</td>\n",
       "      <td>418.606213</td>\n",
       "      <td>16.868637</td>\n",
       "      <td>66.420093</td>\n",
       "      <td>3.055934</td>\n",
       "      <td>0</td>\n",
       "    </tr>\n",
       "    <tr>\n",
       "      <th>3</th>\n",
       "      <td>8.316766</td>\n",
       "      <td>214.373394</td>\n",
       "      <td>22018.417441</td>\n",
       "      <td>8.059332</td>\n",
       "      <td>356.886136</td>\n",
       "      <td>363.266516</td>\n",
       "      <td>18.436524</td>\n",
       "      <td>100.341674</td>\n",
       "      <td>4.628771</td>\n",
       "      <td>0</td>\n",
       "    </tr>\n",
       "    <tr>\n",
       "      <th>4</th>\n",
       "      <td>9.092223</td>\n",
       "      <td>181.101509</td>\n",
       "      <td>17978.986339</td>\n",
       "      <td>6.546600</td>\n",
       "      <td>310.135738</td>\n",
       "      <td>398.410813</td>\n",
       "      <td>11.558279</td>\n",
       "      <td>31.997993</td>\n",
       "      <td>4.075075</td>\n",
       "      <td>0</td>\n",
       "    </tr>\n",
       "  </tbody>\n",
       "</table>\n",
       "</div>"
      ],
      "text/plain": [
       "         ph    Hardness        Solids  Chloramines     Sulfate  Conductivity  \\\n",
       "0       NaN  204.890455  20791.318981     7.300212  368.516441    564.308654   \n",
       "1  3.716080  129.422921  18630.057858     6.635246         NaN    592.885359   \n",
       "2  8.099124  224.236259  19909.541732     9.275884         NaN    418.606213   \n",
       "3  8.316766  214.373394  22018.417441     8.059332  356.886136    363.266516   \n",
       "4  9.092223  181.101509  17978.986339     6.546600  310.135738    398.410813   \n",
       "\n",
       "   Organic_carbon  Trihalomethanes  Turbidity  Potability  \n",
       "0       10.379783        86.990970   2.963135           0  \n",
       "1       15.180013        56.329076   4.500656           0  \n",
       "2       16.868637        66.420093   3.055934           0  \n",
       "3       18.436524       100.341674   4.628771           0  \n",
       "4       11.558279        31.997993   4.075075           0  "
      ]
     },
     "execution_count": 40,
     "metadata": {},
     "output_type": "execute_result"
    }
   ],
   "source": [
    "df.head()"
   ]
  },
  {
   "cell_type": "code",
   "execution_count": 41,
   "metadata": {},
   "outputs": [
    {
     "data": {
      "text/plain": [
       "(3276, 10)"
      ]
     },
     "execution_count": 41,
     "metadata": {},
     "output_type": "execute_result"
    }
   ],
   "source": [
    "np.shape(df)"
   ]
  },
  {
   "cell_type": "code",
   "execution_count": 42,
   "metadata": {},
   "outputs": [],
   "source": [
    "#Preprocessing"
   ]
  },
  {
   "cell_type": "code",
   "execution_count": 43,
   "metadata": {},
   "outputs": [
    {
     "name": "stdout",
     "output_type": "stream",
     "text": [
      "Number of null values in different columns are: \n",
      "--------------------------------------------------\n",
      "ph                 491\n",
      "Hardness             0\n",
      "Solids               0\n",
      "Chloramines          0\n",
      "Sulfate            781\n",
      "Conductivity         0\n",
      "Organic_carbon       0\n",
      "Trihalomethanes    162\n",
      "Turbidity            0\n",
      "Potability           0\n",
      "dtype: int64\n",
      "--------------------------------------------------\n"
     ]
    }
   ],
   "source": [
    "print('Number of null values in different columns are: ')\n",
    "print('--------------------------------------------------')\n",
    "print(df.isna().sum())\n",
    "print('--------------------------------------------------')"
   ]
  },
  {
   "cell_type": "code",
   "execution_count": 44,
   "metadata": {},
   "outputs": [],
   "source": [
    "df = df.dropna()"
   ]
  },
  {
   "cell_type": "code",
   "execution_count": 45,
   "metadata": {},
   "outputs": [
    {
     "data": {
      "text/plain": [
       "(2011, 10)"
      ]
     },
     "execution_count": 45,
     "metadata": {},
     "output_type": "execute_result"
    }
   ],
   "source": [
    "np.shape(df)"
   ]
  },
  {
   "cell_type": "code",
   "execution_count": 46,
   "metadata": {},
   "outputs": [
    {
     "name": "stdout",
     "output_type": "stream",
     "text": [
      "Number of null values in different columns are: \n",
      "--------------------------------------------------\n",
      "ph                 0\n",
      "Hardness           0\n",
      "Solids             0\n",
      "Chloramines        0\n",
      "Sulfate            0\n",
      "Conductivity       0\n",
      "Organic_carbon     0\n",
      "Trihalomethanes    0\n",
      "Turbidity          0\n",
      "Potability         0\n",
      "dtype: int64\n",
      "--------------------------------------------------\n"
     ]
    }
   ],
   "source": [
    "print('Number of null values in different columns are: ')\n",
    "print('--------------------------------------------------')\n",
    "print(df.isna().sum())\n",
    "print('--------------------------------------------------')"
   ]
  },
  {
   "cell_type": "code",
   "execution_count": 49,
   "metadata": {},
   "outputs": [
    {
     "data": {
      "text/html": [
       "<div>\n",
       "<style scoped>\n",
       "    .dataframe tbody tr th:only-of-type {\n",
       "        vertical-align: middle;\n",
       "    }\n",
       "\n",
       "    .dataframe tbody tr th {\n",
       "        vertical-align: top;\n",
       "    }\n",
       "\n",
       "    .dataframe thead th {\n",
       "        text-align: right;\n",
       "    }\n",
       "</style>\n",
       "<table border=\"1\" class=\"dataframe\">\n",
       "  <thead>\n",
       "    <tr style=\"text-align: right;\">\n",
       "      <th></th>\n",
       "      <th>ph</th>\n",
       "      <th>Hardness</th>\n",
       "      <th>Solids</th>\n",
       "      <th>Chloramines</th>\n",
       "      <th>Sulfate</th>\n",
       "      <th>Conductivity</th>\n",
       "      <th>Organic_carbon</th>\n",
       "      <th>Trihalomethanes</th>\n",
       "      <th>Turbidity</th>\n",
       "      <th>Potability</th>\n",
       "    </tr>\n",
       "  </thead>\n",
       "  <tbody>\n",
       "    <tr>\n",
       "      <th>count</th>\n",
       "      <td>2011.000000</td>\n",
       "      <td>2011.000000</td>\n",
       "      <td>2011.000000</td>\n",
       "      <td>2011.000000</td>\n",
       "      <td>2011.000000</td>\n",
       "      <td>2011.000000</td>\n",
       "      <td>2011.000000</td>\n",
       "      <td>2011.000000</td>\n",
       "      <td>2011.000000</td>\n",
       "      <td>2011.000000</td>\n",
       "    </tr>\n",
       "    <tr>\n",
       "      <th>mean</th>\n",
       "      <td>7.085990</td>\n",
       "      <td>195.968072</td>\n",
       "      <td>21917.441374</td>\n",
       "      <td>7.134338</td>\n",
       "      <td>333.224672</td>\n",
       "      <td>426.526409</td>\n",
       "      <td>14.357709</td>\n",
       "      <td>66.400859</td>\n",
       "      <td>3.969729</td>\n",
       "      <td>0.403282</td>\n",
       "    </tr>\n",
       "    <tr>\n",
       "      <th>std</th>\n",
       "      <td>1.573337</td>\n",
       "      <td>32.635085</td>\n",
       "      <td>8642.239815</td>\n",
       "      <td>1.584820</td>\n",
       "      <td>41.205172</td>\n",
       "      <td>80.712572</td>\n",
       "      <td>3.324959</td>\n",
       "      <td>16.077109</td>\n",
       "      <td>0.780346</td>\n",
       "      <td>0.490678</td>\n",
       "    </tr>\n",
       "    <tr>\n",
       "      <th>min</th>\n",
       "      <td>0.227499</td>\n",
       "      <td>73.492234</td>\n",
       "      <td>320.942611</td>\n",
       "      <td>1.390871</td>\n",
       "      <td>129.000000</td>\n",
       "      <td>201.619737</td>\n",
       "      <td>2.200000</td>\n",
       "      <td>8.577013</td>\n",
       "      <td>1.450000</td>\n",
       "      <td>0.000000</td>\n",
       "    </tr>\n",
       "    <tr>\n",
       "      <th>25%</th>\n",
       "      <td>6.089723</td>\n",
       "      <td>176.744938</td>\n",
       "      <td>15615.665390</td>\n",
       "      <td>6.138895</td>\n",
       "      <td>307.632511</td>\n",
       "      <td>366.680307</td>\n",
       "      <td>12.124105</td>\n",
       "      <td>55.952664</td>\n",
       "      <td>3.442915</td>\n",
       "      <td>0.000000</td>\n",
       "    </tr>\n",
       "    <tr>\n",
       "      <th>50%</th>\n",
       "      <td>7.027297</td>\n",
       "      <td>197.191839</td>\n",
       "      <td>20933.512750</td>\n",
       "      <td>7.143907</td>\n",
       "      <td>332.232177</td>\n",
       "      <td>423.455906</td>\n",
       "      <td>14.322019</td>\n",
       "      <td>66.542198</td>\n",
       "      <td>3.968177</td>\n",
       "      <td>0.000000</td>\n",
       "    </tr>\n",
       "    <tr>\n",
       "      <th>75%</th>\n",
       "      <td>8.052969</td>\n",
       "      <td>216.441070</td>\n",
       "      <td>27182.587067</td>\n",
       "      <td>8.109726</td>\n",
       "      <td>359.330555</td>\n",
       "      <td>482.373169</td>\n",
       "      <td>16.683049</td>\n",
       "      <td>77.291925</td>\n",
       "      <td>4.514175</td>\n",
       "      <td>1.000000</td>\n",
       "    </tr>\n",
       "    <tr>\n",
       "      <th>max</th>\n",
       "      <td>14.000000</td>\n",
       "      <td>317.338124</td>\n",
       "      <td>56488.672413</td>\n",
       "      <td>13.127000</td>\n",
       "      <td>481.030642</td>\n",
       "      <td>753.342620</td>\n",
       "      <td>27.006707</td>\n",
       "      <td>124.000000</td>\n",
       "      <td>6.494749</td>\n",
       "      <td>1.000000</td>\n",
       "    </tr>\n",
       "  </tbody>\n",
       "</table>\n",
       "</div>"
      ],
      "text/plain": [
       "                ph     Hardness        Solids  Chloramines      Sulfate  \\\n",
       "count  2011.000000  2011.000000   2011.000000  2011.000000  2011.000000   \n",
       "mean      7.085990   195.968072  21917.441374     7.134338   333.224672   \n",
       "std       1.573337    32.635085   8642.239815     1.584820    41.205172   \n",
       "min       0.227499    73.492234    320.942611     1.390871   129.000000   \n",
       "25%       6.089723   176.744938  15615.665390     6.138895   307.632511   \n",
       "50%       7.027297   197.191839  20933.512750     7.143907   332.232177   \n",
       "75%       8.052969   216.441070  27182.587067     8.109726   359.330555   \n",
       "max      14.000000   317.338124  56488.672413    13.127000   481.030642   \n",
       "\n",
       "       Conductivity  Organic_carbon  Trihalomethanes    Turbidity   Potability  \n",
       "count   2011.000000     2011.000000      2011.000000  2011.000000  2011.000000  \n",
       "mean     426.526409       14.357709        66.400859     3.969729     0.403282  \n",
       "std       80.712572        3.324959        16.077109     0.780346     0.490678  \n",
       "min      201.619737        2.200000         8.577013     1.450000     0.000000  \n",
       "25%      366.680307       12.124105        55.952664     3.442915     0.000000  \n",
       "50%      423.455906       14.322019        66.542198     3.968177     0.000000  \n",
       "75%      482.373169       16.683049        77.291925     4.514175     1.000000  \n",
       "max      753.342620       27.006707       124.000000     6.494749     1.000000  "
      ]
     },
     "execution_count": 49,
     "metadata": {},
     "output_type": "execute_result"
    }
   ],
   "source": [
    "df.describe()"
   ]
  },
  {
   "cell_type": "code",
   "execution_count": 50,
   "metadata": {},
   "outputs": [],
   "source": [
    "df.reset_index(inplace=True)\n",
    "df = df.drop(['index'],axis=1)"
   ]
  },
  {
   "cell_type": "markdown",
   "metadata": {},
   "source": [
    "How many rows are tagged with drinking water?\n",
    "\n",
    "0 = Non-Potable water\n",
    "\n",
    "1 = Potable Water"
   ]
  },
  {
   "cell_type": "code",
   "execution_count": 51,
   "metadata": {},
   "outputs": [
    {
     "data": {
      "text/html": [
       "<div>\n",
       "<style scoped>\n",
       "    .dataframe tbody tr th:only-of-type {\n",
       "        vertical-align: middle;\n",
       "    }\n",
       "\n",
       "    .dataframe tbody tr th {\n",
       "        vertical-align: top;\n",
       "    }\n",
       "\n",
       "    .dataframe thead th {\n",
       "        text-align: right;\n",
       "    }\n",
       "</style>\n",
       "<table border=\"1\" class=\"dataframe\">\n",
       "  <thead>\n",
       "    <tr style=\"text-align: right;\">\n",
       "      <th></th>\n",
       "      <th>ph</th>\n",
       "      <th>Hardness</th>\n",
       "      <th>Solids</th>\n",
       "      <th>Chloramines</th>\n",
       "      <th>Sulfate</th>\n",
       "      <th>Conductivity</th>\n",
       "      <th>Organic_carbon</th>\n",
       "      <th>Trihalomethanes</th>\n",
       "      <th>Turbidity</th>\n",
       "    </tr>\n",
       "    <tr>\n",
       "      <th>Potability</th>\n",
       "      <th></th>\n",
       "      <th></th>\n",
       "      <th></th>\n",
       "      <th></th>\n",
       "      <th></th>\n",
       "      <th></th>\n",
       "      <th></th>\n",
       "      <th></th>\n",
       "      <th></th>\n",
       "    </tr>\n",
       "  </thead>\n",
       "  <tbody>\n",
       "    <tr>\n",
       "      <th>0</th>\n",
       "      <td>1200</td>\n",
       "      <td>1200</td>\n",
       "      <td>1200</td>\n",
       "      <td>1200</td>\n",
       "      <td>1200</td>\n",
       "      <td>1200</td>\n",
       "      <td>1200</td>\n",
       "      <td>1200</td>\n",
       "      <td>1200</td>\n",
       "    </tr>\n",
       "    <tr>\n",
       "      <th>1</th>\n",
       "      <td>811</td>\n",
       "      <td>811</td>\n",
       "      <td>811</td>\n",
       "      <td>811</td>\n",
       "      <td>811</td>\n",
       "      <td>811</td>\n",
       "      <td>811</td>\n",
       "      <td>811</td>\n",
       "      <td>811</td>\n",
       "    </tr>\n",
       "  </tbody>\n",
       "</table>\n",
       "</div>"
      ],
      "text/plain": [
       "              ph  Hardness  Solids  Chloramines  Sulfate  Conductivity  \\\n",
       "Potability                                                               \n",
       "0           1200      1200    1200         1200     1200          1200   \n",
       "1            811       811     811          811      811           811   \n",
       "\n",
       "            Organic_carbon  Trihalomethanes  Turbidity  \n",
       "Potability                                              \n",
       "0                     1200             1200       1200  \n",
       "1                      811              811        811  "
      ]
     },
     "execution_count": 51,
     "metadata": {},
     "output_type": "execute_result"
    }
   ],
   "source": [
    "df.groupby(\"Potability\").count()"
   ]
  },
  {
   "cell_type": "code",
   "execution_count": 52,
   "metadata": {},
   "outputs": [],
   "source": [
    "#Let's separate the response variable and explanatory variables.\n",
    "y = df['Potability']\n",
    "X = df.drop(['Potability'],axis=1)"
   ]
  },
  {
   "cell_type": "code",
   "execution_count": 53,
   "metadata": {},
   "outputs": [],
   "source": [
    "#We normalize our data with MinMaxScaler, here's its formula.\n",
    "from sklearn.preprocessing import MinMaxScaler\n",
    "scaler = MinMaxScaler()\n",
    "X = scaler.fit_transform(X)"
   ]
  },
  {
   "cell_type": "code",
   "execution_count": 54,
   "metadata": {},
   "outputs": [],
   "source": [
    "# Let's split the data into train and test. We split the data 90-10 because of the small dataset."
   ]
  },
  {
   "cell_type": "code",
   "execution_count": 55,
   "metadata": {},
   "outputs": [],
   "source": [
    "from sklearn.model_selection import train_test_split"
   ]
  },
  {
   "cell_type": "code",
   "execution_count": 56,
   "metadata": {},
   "outputs": [],
   "source": [
    "X_train, X_test, y_train, y_test = train_test_split(X, y, test_size=0.10, random_state=0)"
   ]
  },
  {
   "cell_type": "code",
   "execution_count": 57,
   "metadata": {},
   "outputs": [
    {
     "name": "stdout",
     "output_type": "stream",
     "text": [
      "Size Training Set: 1809\n",
      "Size Testing Set: 202\n"
     ]
    }
   ],
   "source": [
    "print('Size Training Set: {}'.format(len(X_train)))\n",
    "print('Size Testing Set: {}'.format(len(X_test)))"
   ]
  },
  {
   "cell_type": "code",
   "execution_count": null,
   "metadata": {},
   "outputs": [],
   "source": []
  },
  {
   "cell_type": "code",
   "execution_count": 58,
   "metadata": {},
   "outputs": [],
   "source": [
    "#Let's Load keras \n",
    "from sklearn.model_selection import train_test_split\n",
    "import tensorflow as tf\n",
    "from tensorflow import keras\n",
    "from tensorflow.keras import layers"
   ]
  },
  {
   "cell_type": "code",
   "execution_count": 59,
   "metadata": {},
   "outputs": [],
   "source": [
    "from tensorflow.keras.callbacks import EarlyStopping\n",
    "early_stopping = EarlyStopping(monitor=\"val_loss\",\n",
    "                               mode = 'auto',\n",
    "                               patience=15)"
   ]
  },
  {
   "cell_type": "code",
   "execution_count": 60,
   "metadata": {},
   "outputs": [],
   "source": [
    "# defining model\n",
    "model = keras.Sequential()\n",
    "model.add(layers.Dense(20, activation='relu', input_dim=9))\n",
    "model.add(layers.Dense(1))"
   ]
  },
  {
   "cell_type": "code",
   "execution_count": 61,
   "metadata": {},
   "outputs": [],
   "source": [
    "opt = keras.optimizers.Adam()\n",
    "\n",
    "model.compile(loss='mean_squared_error', optimizer=opt,metrics=['accuracy'])"
   ]
  },
  {
   "cell_type": "code",
   "execution_count": 62,
   "metadata": {},
   "outputs": [
    {
     "name": "stdout",
     "output_type": "stream",
     "text": [
      "Epoch 1/300\n",
      "25/25 [==============================] - 0s 6ms/step - loss: 0.6698 - accuracy: 0.5937 - val_loss: 0.4215 - val_accuracy: 0.6238\n",
      "Epoch 2/300\n",
      "25/25 [==============================] - 0s 2ms/step - loss: 0.3625 - accuracy: 0.5937 - val_loss: 0.2729 - val_accuracy: 0.6238\n",
      "Epoch 3/300\n",
      "25/25 [==============================] - 0s 2ms/step - loss: 0.2672 - accuracy: 0.5931 - val_loss: 0.2414 - val_accuracy: 0.6436\n",
      "Epoch 4/300\n",
      "25/25 [==============================] - 0s 3ms/step - loss: 0.2484 - accuracy: 0.5876 - val_loss: 0.2419 - val_accuracy: 0.6238\n",
      "Epoch 5/300\n",
      "25/25 [==============================] - 0s 3ms/step - loss: 0.2464 - accuracy: 0.5782 - val_loss: 0.2417 - val_accuracy: 0.6238\n",
      "Epoch 6/300\n",
      "25/25 [==============================] - 0s 2ms/step - loss: 0.2457 - accuracy: 0.5810 - val_loss: 0.2411 - val_accuracy: 0.6238\n",
      "Epoch 7/300\n",
      "25/25 [==============================] - 0s 3ms/step - loss: 0.2452 - accuracy: 0.5821 - val_loss: 0.2407 - val_accuracy: 0.6238\n",
      "Epoch 8/300\n",
      "25/25 [==============================] - 0s 3ms/step - loss: 0.2449 - accuracy: 0.5860 - val_loss: 0.2401 - val_accuracy: 0.6287\n",
      "Epoch 9/300\n",
      "25/25 [==============================] - 0s 2ms/step - loss: 0.2444 - accuracy: 0.5893 - val_loss: 0.2400 - val_accuracy: 0.6287\n",
      "Epoch 10/300\n",
      "25/25 [==============================] - 0s 3ms/step - loss: 0.2441 - accuracy: 0.5893 - val_loss: 0.2395 - val_accuracy: 0.6238\n",
      "Epoch 11/300\n",
      "25/25 [==============================] - 0s 2ms/step - loss: 0.2436 - accuracy: 0.5915 - val_loss: 0.2393 - val_accuracy: 0.6238\n",
      "Epoch 12/300\n",
      "25/25 [==============================] - 0s 3ms/step - loss: 0.2433 - accuracy: 0.5959 - val_loss: 0.2401 - val_accuracy: 0.6188\n",
      "Epoch 13/300\n",
      "25/25 [==============================] - 0s 3ms/step - loss: 0.2428 - accuracy: 0.5926 - val_loss: 0.2391 - val_accuracy: 0.6238\n",
      "Epoch 14/300\n",
      "25/25 [==============================] - 0s 2ms/step - loss: 0.2426 - accuracy: 0.5948 - val_loss: 0.2395 - val_accuracy: 0.6287\n",
      "Epoch 15/300\n",
      "25/25 [==============================] - 0s 3ms/step - loss: 0.2421 - accuracy: 0.5959 - val_loss: 0.2388 - val_accuracy: 0.6238\n",
      "Epoch 16/300\n",
      "25/25 [==============================] - 0s 3ms/step - loss: 0.2419 - accuracy: 0.5948 - val_loss: 0.2391 - val_accuracy: 0.6238\n",
      "Epoch 17/300\n",
      "25/25 [==============================] - 0s 3ms/step - loss: 0.2415 - accuracy: 0.5959 - val_loss: 0.2379 - val_accuracy: 0.6238\n",
      "Epoch 18/300\n",
      "25/25 [==============================] - 0s 3ms/step - loss: 0.2412 - accuracy: 0.5954 - val_loss: 0.2381 - val_accuracy: 0.6238\n",
      "Epoch 19/300\n",
      "25/25 [==============================] - 0s 2ms/step - loss: 0.2414 - accuracy: 0.5948 - val_loss: 0.2377 - val_accuracy: 0.6287\n",
      "Epoch 20/300\n",
      "25/25 [==============================] - 0s 2ms/step - loss: 0.2405 - accuracy: 0.5970 - val_loss: 0.2376 - val_accuracy: 0.6287\n",
      "Epoch 21/300\n",
      "25/25 [==============================] - 0s 2ms/step - loss: 0.2404 - accuracy: 0.5998 - val_loss: 0.2379 - val_accuracy: 0.6238\n",
      "Epoch 22/300\n",
      "25/25 [==============================] - 0s 3ms/step - loss: 0.2403 - accuracy: 0.5937 - val_loss: 0.2375 - val_accuracy: 0.6287\n",
      "Epoch 23/300\n",
      "25/25 [==============================] - 0s 2ms/step - loss: 0.2398 - accuracy: 0.5998 - val_loss: 0.2374 - val_accuracy: 0.6287\n",
      "Epoch 24/300\n",
      "25/25 [==============================] - 0s 2ms/step - loss: 0.2396 - accuracy: 0.5981 - val_loss: 0.2359 - val_accuracy: 0.6386\n",
      "Epoch 25/300\n",
      "25/25 [==============================] - 0s 2ms/step - loss: 0.2401 - accuracy: 0.5943 - val_loss: 0.2359 - val_accuracy: 0.6386\n",
      "Epoch 26/300\n",
      "25/25 [==============================] - 0s 2ms/step - loss: 0.2395 - accuracy: 0.5970 - val_loss: 0.2358 - val_accuracy: 0.6386\n",
      "Epoch 27/300\n",
      "25/25 [==============================] - 0s 2ms/step - loss: 0.2393 - accuracy: 0.5959 - val_loss: 0.2356 - val_accuracy: 0.6386\n",
      "Epoch 28/300\n",
      "25/25 [==============================] - 0s 2ms/step - loss: 0.2386 - accuracy: 0.5998 - val_loss: 0.2361 - val_accuracy: 0.6287\n",
      "Epoch 29/300\n",
      "25/25 [==============================] - 0s 2ms/step - loss: 0.2385 - accuracy: 0.6003 - val_loss: 0.2344 - val_accuracy: 0.6287\n",
      "Epoch 30/300\n",
      "25/25 [==============================] - 0s 2ms/step - loss: 0.2379 - accuracy: 0.6014 - val_loss: 0.2357 - val_accuracy: 0.6337\n",
      "Epoch 31/300\n",
      "25/25 [==============================] - 0s 2ms/step - loss: 0.2374 - accuracy: 0.6025 - val_loss: 0.2345 - val_accuracy: 0.6337\n",
      "Epoch 32/300\n",
      "25/25 [==============================] - 0s 2ms/step - loss: 0.2371 - accuracy: 0.6014 - val_loss: 0.2345 - val_accuracy: 0.6337\n",
      "Epoch 33/300\n",
      "25/25 [==============================] - 0s 2ms/step - loss: 0.2372 - accuracy: 0.6048 - val_loss: 0.2333 - val_accuracy: 0.6287\n",
      "Epoch 34/300\n",
      "25/25 [==============================] - 0s 2ms/step - loss: 0.2366 - accuracy: 0.5976 - val_loss: 0.2330 - val_accuracy: 0.6287\n",
      "Epoch 35/300\n",
      "25/25 [==============================] - 0s 3ms/step - loss: 0.2364 - accuracy: 0.5981 - val_loss: 0.2331 - val_accuracy: 0.6287\n",
      "Epoch 36/300\n",
      "25/25 [==============================] - 0s 2ms/step - loss: 0.2360 - accuracy: 0.6053 - val_loss: 0.2336 - val_accuracy: 0.6337\n",
      "Epoch 37/300\n",
      "25/25 [==============================] - 0s 3ms/step - loss: 0.2356 - accuracy: 0.6064 - val_loss: 0.2318 - val_accuracy: 0.6337\n",
      "Epoch 38/300\n",
      "25/25 [==============================] - 0s 2ms/step - loss: 0.2354 - accuracy: 0.6025 - val_loss: 0.2313 - val_accuracy: 0.6337\n",
      "Epoch 39/300\n",
      "25/25 [==============================] - 0s 2ms/step - loss: 0.2350 - accuracy: 0.5998 - val_loss: 0.2311 - val_accuracy: 0.6337\n",
      "Epoch 40/300\n",
      "25/25 [==============================] - 0s 2ms/step - loss: 0.2344 - accuracy: 0.6070 - val_loss: 0.2300 - val_accuracy: 0.6337\n",
      "Epoch 41/300\n",
      "25/25 [==============================] - 0s 2ms/step - loss: 0.2342 - accuracy: 0.6036 - val_loss: 0.2306 - val_accuracy: 0.6287\n",
      "Epoch 42/300\n",
      "25/25 [==============================] - 0s 2ms/step - loss: 0.2343 - accuracy: 0.6147 - val_loss: 0.2302 - val_accuracy: 0.6287\n",
      "Epoch 43/300\n",
      "25/25 [==============================] - 0s 2ms/step - loss: 0.2336 - accuracy: 0.6048 - val_loss: 0.2292 - val_accuracy: 0.6287\n",
      "Epoch 44/300\n",
      "25/25 [==============================] - 0s 2ms/step - loss: 0.2338 - accuracy: 0.5959 - val_loss: 0.2291 - val_accuracy: 0.6287\n",
      "Epoch 45/300\n",
      "25/25 [==============================] - 0s 2ms/step - loss: 0.2334 - accuracy: 0.6147 - val_loss: 0.2287 - val_accuracy: 0.6337\n",
      "Epoch 46/300\n",
      "25/25 [==============================] - 0s 2ms/step - loss: 0.2328 - accuracy: 0.6059 - val_loss: 0.2277 - val_accuracy: 0.6337\n",
      "Epoch 47/300\n",
      "25/25 [==============================] - 0s 2ms/step - loss: 0.2321 - accuracy: 0.6147 - val_loss: 0.2275 - val_accuracy: 0.6337\n",
      "Epoch 48/300\n",
      "25/25 [==============================] - 0s 2ms/step - loss: 0.2318 - accuracy: 0.6048 - val_loss: 0.2273 - val_accuracy: 0.6337\n",
      "Epoch 49/300\n",
      "25/25 [==============================] - 0s 2ms/step - loss: 0.2314 - accuracy: 0.6180 - val_loss: 0.2259 - val_accuracy: 0.6386\n",
      "Epoch 50/300\n",
      "25/25 [==============================] - 0s 2ms/step - loss: 0.2311 - accuracy: 0.6053 - val_loss: 0.2265 - val_accuracy: 0.6337\n",
      "Epoch 51/300\n",
      "25/25 [==============================] - 0s 2ms/step - loss: 0.2315 - accuracy: 0.6081 - val_loss: 0.2265 - val_accuracy: 0.6287\n",
      "Epoch 52/300\n",
      "25/25 [==============================] - 0s 2ms/step - loss: 0.2303 - accuracy: 0.6053 - val_loss: 0.2266 - val_accuracy: 0.6485\n",
      "Epoch 53/300\n",
      "25/25 [==============================] - 0s 2ms/step - loss: 0.2310 - accuracy: 0.6263 - val_loss: 0.2238 - val_accuracy: 0.6337\n",
      "Epoch 54/300\n",
      "25/25 [==============================] - 0s 2ms/step - loss: 0.2297 - accuracy: 0.6352 - val_loss: 0.2248 - val_accuracy: 0.6287\n",
      "Epoch 55/300\n",
      "25/25 [==============================] - 0s 2ms/step - loss: 0.2297 - accuracy: 0.6059 - val_loss: 0.2247 - val_accuracy: 0.6436\n",
      "Epoch 56/300\n",
      "25/25 [==============================] - 0s 2ms/step - loss: 0.2287 - accuracy: 0.6202 - val_loss: 0.2243 - val_accuracy: 0.6337\n",
      "Epoch 57/300\n",
      "25/25 [==============================] - 0s 2ms/step - loss: 0.2283 - accuracy: 0.6175 - val_loss: 0.2232 - val_accuracy: 0.6337\n",
      "Epoch 58/300\n",
      "25/25 [==============================] - 0s 2ms/step - loss: 0.2278 - accuracy: 0.6180 - val_loss: 0.2221 - val_accuracy: 0.6386\n"
     ]
    },
    {
     "name": "stdout",
     "output_type": "stream",
     "text": [
      "Epoch 59/300\n",
      "25/25 [==============================] - 0s 2ms/step - loss: 0.2275 - accuracy: 0.6158 - val_loss: 0.2234 - val_accuracy: 0.6584\n",
      "Epoch 60/300\n",
      "25/25 [==============================] - 0s 2ms/step - loss: 0.2274 - accuracy: 0.6390 - val_loss: 0.2224 - val_accuracy: 0.6436\n",
      "Epoch 61/300\n",
      "25/25 [==============================] - 0s 2ms/step - loss: 0.2265 - accuracy: 0.6324 - val_loss: 0.2213 - val_accuracy: 0.6436\n",
      "Epoch 62/300\n",
      "25/25 [==============================] - 0s 2ms/step - loss: 0.2270 - accuracy: 0.6158 - val_loss: 0.2217 - val_accuracy: 0.6683\n",
      "Epoch 63/300\n",
      "25/25 [==============================] - 0s 2ms/step - loss: 0.2259 - accuracy: 0.6213 - val_loss: 0.2203 - val_accuracy: 0.6535\n",
      "Epoch 64/300\n",
      "25/25 [==============================] - 0s 2ms/step - loss: 0.2258 - accuracy: 0.6230 - val_loss: 0.2219 - val_accuracy: 0.6634\n",
      "Epoch 65/300\n",
      "25/25 [==============================] - 0s 2ms/step - loss: 0.2253 - accuracy: 0.6374 - val_loss: 0.2192 - val_accuracy: 0.6436\n",
      "Epoch 66/300\n",
      "25/25 [==============================] - 0s 2ms/step - loss: 0.2251 - accuracy: 0.6324 - val_loss: 0.2189 - val_accuracy: 0.6634\n",
      "Epoch 67/300\n",
      "25/25 [==============================] - 0s 2ms/step - loss: 0.2253 - accuracy: 0.6269 - val_loss: 0.2207 - val_accuracy: 0.6782\n",
      "Epoch 68/300\n",
      "25/25 [==============================] - 0s 2ms/step - loss: 0.2240 - accuracy: 0.6296 - val_loss: 0.2188 - val_accuracy: 0.6683\n",
      "Epoch 69/300\n",
      "25/25 [==============================] - 0s 2ms/step - loss: 0.2244 - accuracy: 0.6473 - val_loss: 0.2178 - val_accuracy: 0.6634\n",
      "Epoch 70/300\n",
      "25/25 [==============================] - 0s 2ms/step - loss: 0.2239 - accuracy: 0.6379 - val_loss: 0.2182 - val_accuracy: 0.6733\n",
      "Epoch 71/300\n",
      "25/25 [==============================] - 0s 2ms/step - loss: 0.2231 - accuracy: 0.6329 - val_loss: 0.2197 - val_accuracy: 0.6832\n",
      "Epoch 72/300\n",
      "25/25 [==============================] - 0s 2ms/step - loss: 0.2248 - accuracy: 0.6540 - val_loss: 0.2171 - val_accuracy: 0.6782\n",
      "Epoch 73/300\n",
      "25/25 [==============================] - 0s 2ms/step - loss: 0.2222 - accuracy: 0.6423 - val_loss: 0.2171 - val_accuracy: 0.6782\n",
      "Epoch 74/300\n",
      "25/25 [==============================] - 0s 2ms/step - loss: 0.2219 - accuracy: 0.6506 - val_loss: 0.2180 - val_accuracy: 0.6782\n",
      "Epoch 75/300\n",
      "25/25 [==============================] - 0s 2ms/step - loss: 0.2212 - accuracy: 0.6479 - val_loss: 0.2169 - val_accuracy: 0.6782\n",
      "Epoch 76/300\n",
      "25/25 [==============================] - 0s 2ms/step - loss: 0.2211 - accuracy: 0.6479 - val_loss: 0.2184 - val_accuracy: 0.6881\n",
      "Epoch 77/300\n",
      "25/25 [==============================] - 0s 2ms/step - loss: 0.2206 - accuracy: 0.6540 - val_loss: 0.2158 - val_accuracy: 0.6881\n",
      "Epoch 78/300\n",
      "25/25 [==============================] - 0s 2ms/step - loss: 0.2208 - accuracy: 0.6374 - val_loss: 0.2169 - val_accuracy: 0.6881\n",
      "Epoch 79/300\n",
      "25/25 [==============================] - 0s 2ms/step - loss: 0.2199 - accuracy: 0.6540 - val_loss: 0.2166 - val_accuracy: 0.6832\n",
      "Epoch 80/300\n",
      "25/25 [==============================] - 0s 2ms/step - loss: 0.2196 - accuracy: 0.6645 - val_loss: 0.2142 - val_accuracy: 0.6881\n",
      "Epoch 81/300\n",
      "25/25 [==============================] - 0s 3ms/step - loss: 0.2202 - accuracy: 0.6501 - val_loss: 0.2146 - val_accuracy: 0.6980\n",
      "Epoch 82/300\n",
      "25/25 [==============================] - 0s 3ms/step - loss: 0.2200 - accuracy: 0.6495 - val_loss: 0.2142 - val_accuracy: 0.6881\n",
      "Epoch 83/300\n",
      "25/25 [==============================] - 0s 2ms/step - loss: 0.2192 - accuracy: 0.6606 - val_loss: 0.2136 - val_accuracy: 0.6931\n",
      "Epoch 84/300\n",
      "25/25 [==============================] - 0s 2ms/step - loss: 0.2182 - accuracy: 0.6589 - val_loss: 0.2147 - val_accuracy: 0.6980\n",
      "Epoch 85/300\n",
      "25/25 [==============================] - 0s 2ms/step - loss: 0.2180 - accuracy: 0.6611 - val_loss: 0.2128 - val_accuracy: 0.6881\n",
      "Epoch 86/300\n",
      "25/25 [==============================] - 0s 2ms/step - loss: 0.2178 - accuracy: 0.6639 - val_loss: 0.2147 - val_accuracy: 0.6980\n",
      "Epoch 87/300\n",
      "25/25 [==============================] - 0s 2ms/step - loss: 0.2174 - accuracy: 0.6573 - val_loss: 0.2129 - val_accuracy: 0.6931\n",
      "Epoch 88/300\n",
      "25/25 [==============================] - 0s 2ms/step - loss: 0.2173 - accuracy: 0.6622 - val_loss: 0.2107 - val_accuracy: 0.6931\n",
      "Epoch 89/300\n",
      "25/25 [==============================] - 0s 2ms/step - loss: 0.2164 - accuracy: 0.6584 - val_loss: 0.2128 - val_accuracy: 0.6931\n",
      "Epoch 90/300\n",
      "25/25 [==============================] - 0s 2ms/step - loss: 0.2162 - accuracy: 0.6678 - val_loss: 0.2112 - val_accuracy: 0.6980\n",
      "Epoch 91/300\n",
      "25/25 [==============================] - 0s 3ms/step - loss: 0.2165 - accuracy: 0.6606 - val_loss: 0.2149 - val_accuracy: 0.6980\n",
      "Epoch 92/300\n",
      "25/25 [==============================] - 0s 2ms/step - loss: 0.2160 - accuracy: 0.6766 - val_loss: 0.2109 - val_accuracy: 0.6980\n",
      "Epoch 93/300\n",
      "25/25 [==============================] - 0s 3ms/step - loss: 0.2155 - accuracy: 0.6650 - val_loss: 0.2108 - val_accuracy: 0.6931\n",
      "Epoch 94/300\n",
      "25/25 [==============================] - 0s 2ms/step - loss: 0.2149 - accuracy: 0.6600 - val_loss: 0.2113 - val_accuracy: 0.6931\n",
      "Epoch 95/300\n",
      "25/25 [==============================] - 0s 2ms/step - loss: 0.2160 - accuracy: 0.6716 - val_loss: 0.2101 - val_accuracy: 0.6980\n",
      "Epoch 96/300\n",
      "25/25 [==============================] - 0s 2ms/step - loss: 0.2156 - accuracy: 0.6595 - val_loss: 0.2096 - val_accuracy: 0.6881\n",
      "Epoch 97/300\n",
      "25/25 [==============================] - 0s 2ms/step - loss: 0.2143 - accuracy: 0.6628 - val_loss: 0.2100 - val_accuracy: 0.6980\n",
      "Epoch 98/300\n",
      "25/25 [==============================] - 0s 2ms/step - loss: 0.2137 - accuracy: 0.6606 - val_loss: 0.2108 - val_accuracy: 0.6931\n",
      "Epoch 99/300\n",
      "25/25 [==============================] - 0s 2ms/step - loss: 0.2145 - accuracy: 0.6661 - val_loss: 0.2118 - val_accuracy: 0.6881\n",
      "Epoch 100/300\n",
      "25/25 [==============================] - 0s 2ms/step - loss: 0.2140 - accuracy: 0.6678 - val_loss: 0.2087 - val_accuracy: 0.6931\n",
      "Epoch 101/300\n",
      "25/25 [==============================] - 0s 2ms/step - loss: 0.2146 - accuracy: 0.6617 - val_loss: 0.2095 - val_accuracy: 0.7079\n",
      "Epoch 102/300\n",
      "25/25 [==============================] - 0s 2ms/step - loss: 0.2127 - accuracy: 0.6678 - val_loss: 0.2093 - val_accuracy: 0.6980\n",
      "Epoch 103/300\n",
      "25/25 [==============================] - 0s 3ms/step - loss: 0.2125 - accuracy: 0.6827 - val_loss: 0.2083 - val_accuracy: 0.6980\n",
      "Epoch 104/300\n",
      "25/25 [==============================] - 0s 2ms/step - loss: 0.2120 - accuracy: 0.6700 - val_loss: 0.2082 - val_accuracy: 0.6980\n",
      "Epoch 105/300\n",
      "25/25 [==============================] - 0s 2ms/step - loss: 0.2117 - accuracy: 0.6772 - val_loss: 0.2069 - val_accuracy: 0.7129\n",
      "Epoch 106/300\n",
      "25/25 [==============================] - 0s 2ms/step - loss: 0.2116 - accuracy: 0.6849 - val_loss: 0.2058 - val_accuracy: 0.7030\n",
      "Epoch 107/300\n",
      "25/25 [==============================] - 0s 2ms/step - loss: 0.2109 - accuracy: 0.6799 - val_loss: 0.2072 - val_accuracy: 0.7030\n",
      "Epoch 108/300\n",
      "25/25 [==============================] - 0s 2ms/step - loss: 0.2113 - accuracy: 0.6844 - val_loss: 0.2063 - val_accuracy: 0.7030\n",
      "Epoch 109/300\n",
      "25/25 [==============================] - 0s 2ms/step - loss: 0.2111 - accuracy: 0.6705 - val_loss: 0.2071 - val_accuracy: 0.7030\n",
      "Epoch 110/300\n",
      "25/25 [==============================] - 0s 2ms/step - loss: 0.2108 - accuracy: 0.6799 - val_loss: 0.2108 - val_accuracy: 0.6782\n",
      "Epoch 111/300\n",
      "25/25 [==============================] - 0s 2ms/step - loss: 0.2109 - accuracy: 0.6772 - val_loss: 0.2069 - val_accuracy: 0.7079\n",
      "Epoch 112/300\n",
      "25/25 [==============================] - 0s 2ms/step - loss: 0.2099 - accuracy: 0.6766 - val_loss: 0.2080 - val_accuracy: 0.7030\n",
      "Epoch 113/300\n",
      "25/25 [==============================] - 0s 2ms/step - loss: 0.2101 - accuracy: 0.6794 - val_loss: 0.2059 - val_accuracy: 0.7030\n",
      "Epoch 114/300\n",
      "25/25 [==============================] - 0s 2ms/step - loss: 0.2095 - accuracy: 0.6833 - val_loss: 0.2062 - val_accuracy: 0.7129\n",
      "Epoch 115/300\n",
      "25/25 [==============================] - 0s 2ms/step - loss: 0.2092 - accuracy: 0.6871 - val_loss: 0.2059 - val_accuracy: 0.7079\n",
      "Epoch 116/300\n"
     ]
    },
    {
     "name": "stdout",
     "output_type": "stream",
     "text": [
      "25/25 [==============================] - 0s 2ms/step - loss: 0.2099 - accuracy: 0.6755 - val_loss: 0.2062 - val_accuracy: 0.7129\n",
      "Epoch 117/300\n",
      "25/25 [==============================] - 0s 2ms/step - loss: 0.2086 - accuracy: 0.6838 - val_loss: 0.2066 - val_accuracy: 0.6980\n",
      "Epoch 118/300\n",
      "25/25 [==============================] - 0s 2ms/step - loss: 0.2085 - accuracy: 0.6849 - val_loss: 0.2052 - val_accuracy: 0.7079\n",
      "Epoch 119/300\n",
      "25/25 [==============================] - 0s 3ms/step - loss: 0.2082 - accuracy: 0.6821 - val_loss: 0.2051 - val_accuracy: 0.7129\n",
      "Epoch 120/300\n",
      "25/25 [==============================] - 0s 3ms/step - loss: 0.2077 - accuracy: 0.6849 - val_loss: 0.2067 - val_accuracy: 0.6980\n",
      "Epoch 121/300\n",
      "25/25 [==============================] - 0s 2ms/step - loss: 0.2078 - accuracy: 0.6816 - val_loss: 0.2054 - val_accuracy: 0.7129\n",
      "Epoch 122/300\n",
      "25/25 [==============================] - 0s 2ms/step - loss: 0.2076 - accuracy: 0.6833 - val_loss: 0.2051 - val_accuracy: 0.7079\n",
      "Epoch 123/300\n",
      "25/25 [==============================] - 0s 2ms/step - loss: 0.2093 - accuracy: 0.6821 - val_loss: 0.2035 - val_accuracy: 0.7129\n",
      "Epoch 124/300\n",
      "25/25 [==============================] - 0s 2ms/step - loss: 0.2070 - accuracy: 0.6833 - val_loss: 0.2049 - val_accuracy: 0.7079\n",
      "Epoch 125/300\n",
      "25/25 [==============================] - 0s 2ms/step - loss: 0.2081 - accuracy: 0.6915 - val_loss: 0.2038 - val_accuracy: 0.7129\n",
      "Epoch 126/300\n",
      "25/25 [==============================] - 0s 2ms/step - loss: 0.2070 - accuracy: 0.6838 - val_loss: 0.2036 - val_accuracy: 0.7129\n",
      "Epoch 127/300\n",
      "25/25 [==============================] - 0s 2ms/step - loss: 0.2068 - accuracy: 0.6888 - val_loss: 0.2043 - val_accuracy: 0.7030\n",
      "Epoch 128/300\n",
      "25/25 [==============================] - 0s 2ms/step - loss: 0.2063 - accuracy: 0.6943 - val_loss: 0.2032 - val_accuracy: 0.7178\n",
      "Epoch 129/300\n",
      "25/25 [==============================] - 0s 2ms/step - loss: 0.2063 - accuracy: 0.6882 - val_loss: 0.2035 - val_accuracy: 0.7079\n",
      "Epoch 130/300\n",
      "25/25 [==============================] - 0s 2ms/step - loss: 0.2064 - accuracy: 0.6838 - val_loss: 0.2026 - val_accuracy: 0.7129\n",
      "Epoch 131/300\n",
      "25/25 [==============================] - 0s 2ms/step - loss: 0.2058 - accuracy: 0.6893 - val_loss: 0.2039 - val_accuracy: 0.7129\n",
      "Epoch 132/300\n",
      "25/25 [==============================] - 0s 2ms/step - loss: 0.2062 - accuracy: 0.6893 - val_loss: 0.2033 - val_accuracy: 0.7030\n",
      "Epoch 133/300\n",
      "25/25 [==============================] - 0s 2ms/step - loss: 0.2060 - accuracy: 0.6882 - val_loss: 0.2023 - val_accuracy: 0.7129\n",
      "Epoch 134/300\n",
      "25/25 [==============================] - 0s 2ms/step - loss: 0.2058 - accuracy: 0.6893 - val_loss: 0.2022 - val_accuracy: 0.7129\n",
      "Epoch 135/300\n",
      "25/25 [==============================] - 0s 3ms/step - loss: 0.2054 - accuracy: 0.6949 - val_loss: 0.2024 - val_accuracy: 0.7129\n",
      "Epoch 136/300\n",
      "25/25 [==============================] - 0s 2ms/step - loss: 0.2058 - accuracy: 0.6904 - val_loss: 0.2032 - val_accuracy: 0.7079\n",
      "Epoch 137/300\n",
      "25/25 [==============================] - 0s 2ms/step - loss: 0.2056 - accuracy: 0.6893 - val_loss: 0.2020 - val_accuracy: 0.7129\n",
      "Epoch 138/300\n",
      "25/25 [==============================] - 0s 2ms/step - loss: 0.2049 - accuracy: 0.6855 - val_loss: 0.2046 - val_accuracy: 0.6832\n",
      "Epoch 139/300\n",
      "25/25 [==============================] - 0s 2ms/step - loss: 0.2056 - accuracy: 0.6982 - val_loss: 0.2020 - val_accuracy: 0.7030\n",
      "Epoch 140/300\n",
      "25/25 [==============================] - 0s 2ms/step - loss: 0.2041 - accuracy: 0.6926 - val_loss: 0.2011 - val_accuracy: 0.7178\n",
      "Epoch 141/300\n",
      "25/25 [==============================] - 0s 2ms/step - loss: 0.2050 - accuracy: 0.6860 - val_loss: 0.2022 - val_accuracy: 0.7030\n",
      "Epoch 142/300\n",
      "25/25 [==============================] - 0s 2ms/step - loss: 0.2049 - accuracy: 0.6866 - val_loss: 0.2017 - val_accuracy: 0.7129\n",
      "Epoch 143/300\n",
      "25/25 [==============================] - 0s 2ms/step - loss: 0.2043 - accuracy: 0.6938 - val_loss: 0.2019 - val_accuracy: 0.7129\n",
      "Epoch 144/300\n",
      "25/25 [==============================] - 0s 2ms/step - loss: 0.2039 - accuracy: 0.6877 - val_loss: 0.2009 - val_accuracy: 0.7079\n",
      "Epoch 145/300\n",
      "25/25 [==============================] - 0s 3ms/step - loss: 0.2034 - accuracy: 0.6926 - val_loss: 0.2021 - val_accuracy: 0.6931\n",
      "Epoch 146/300\n",
      "25/25 [==============================] - 0s 2ms/step - loss: 0.2040 - accuracy: 0.7009 - val_loss: 0.2008 - val_accuracy: 0.7178\n",
      "Epoch 147/300\n",
      "25/25 [==============================] - 0s 2ms/step - loss: 0.2038 - accuracy: 0.6860 - val_loss: 0.2016 - val_accuracy: 0.7079\n",
      "Epoch 148/300\n",
      "25/25 [==============================] - 0s 2ms/step - loss: 0.2035 - accuracy: 0.6921 - val_loss: 0.2007 - val_accuracy: 0.7178\n",
      "Epoch 149/300\n",
      "25/25 [==============================] - 0s 2ms/step - loss: 0.2036 - accuracy: 0.6888 - val_loss: 0.2006 - val_accuracy: 0.7129\n",
      "Epoch 150/300\n",
      "25/25 [==============================] - 0s 2ms/step - loss: 0.2030 - accuracy: 0.6954 - val_loss: 0.2013 - val_accuracy: 0.7129\n",
      "Epoch 151/300\n",
      "25/25 [==============================] - 0s 2ms/step - loss: 0.2030 - accuracy: 0.6932 - val_loss: 0.2008 - val_accuracy: 0.7178\n",
      "Epoch 152/300\n",
      "25/25 [==============================] - 0s 2ms/step - loss: 0.2028 - accuracy: 0.6899 - val_loss: 0.2009 - val_accuracy: 0.7030\n",
      "Epoch 153/300\n",
      "25/25 [==============================] - 0s 3ms/step - loss: 0.2028 - accuracy: 0.6921 - val_loss: 0.2013 - val_accuracy: 0.7129\n",
      "Epoch 154/300\n",
      "25/25 [==============================] - 0s 2ms/step - loss: 0.2036 - accuracy: 0.6932 - val_loss: 0.2002 - val_accuracy: 0.7129\n",
      "Epoch 155/300\n",
      "25/25 [==============================] - 0s 2ms/step - loss: 0.2036 - accuracy: 0.6899 - val_loss: 0.2000 - val_accuracy: 0.7178\n",
      "Epoch 156/300\n",
      "25/25 [==============================] - 0s 2ms/step - loss: 0.2022 - accuracy: 0.6921 - val_loss: 0.2029 - val_accuracy: 0.6832\n",
      "Epoch 157/300\n",
      "25/25 [==============================] - 0s 2ms/step - loss: 0.2025 - accuracy: 0.6965 - val_loss: 0.1999 - val_accuracy: 0.7129\n",
      "Epoch 158/300\n",
      "25/25 [==============================] - 0s 2ms/step - loss: 0.2034 - accuracy: 0.6882 - val_loss: 0.2002 - val_accuracy: 0.7079\n",
      "Epoch 159/300\n",
      "25/25 [==============================] - 0s 2ms/step - loss: 0.2017 - accuracy: 0.6915 - val_loss: 0.2049 - val_accuracy: 0.6683\n",
      "Epoch 160/300\n",
      "25/25 [==============================] - 0s 2ms/step - loss: 0.2052 - accuracy: 0.6877 - val_loss: 0.2005 - val_accuracy: 0.7129\n",
      "Epoch 161/300\n",
      "25/25 [==============================] - 0s 2ms/step - loss: 0.2022 - accuracy: 0.6871 - val_loss: 0.1998 - val_accuracy: 0.7129\n",
      "Epoch 162/300\n",
      "25/25 [==============================] - 0s 2ms/step - loss: 0.2016 - accuracy: 0.6904 - val_loss: 0.2005 - val_accuracy: 0.7030\n",
      "Epoch 163/300\n",
      "25/25 [==============================] - 0s 2ms/step - loss: 0.2016 - accuracy: 0.6971 - val_loss: 0.1995 - val_accuracy: 0.7129\n",
      "Epoch 164/300\n",
      "25/25 [==============================] - 0s 2ms/step - loss: 0.2021 - accuracy: 0.6888 - val_loss: 0.1988 - val_accuracy: 0.7178\n",
      "Epoch 165/300\n",
      "25/25 [==============================] - 0s 2ms/step - loss: 0.2018 - accuracy: 0.6910 - val_loss: 0.1993 - val_accuracy: 0.7079\n",
      "Epoch 166/300\n",
      "25/25 [==============================] - 0s 2ms/step - loss: 0.2025 - accuracy: 0.6943 - val_loss: 0.1993 - val_accuracy: 0.7079\n",
      "Epoch 167/300\n",
      "25/25 [==============================] - 0s 2ms/step - loss: 0.2016 - accuracy: 0.6932 - val_loss: 0.2005 - val_accuracy: 0.7079\n",
      "Epoch 168/300\n",
      "25/25 [==============================] - 0s 2ms/step - loss: 0.2009 - accuracy: 0.6954 - val_loss: 0.1992 - val_accuracy: 0.7030\n",
      "Epoch 169/300\n",
      "25/25 [==============================] - 0s 2ms/step - loss: 0.2020 - accuracy: 0.6926 - val_loss: 0.1987 - val_accuracy: 0.7178\n",
      "Epoch 170/300\n",
      "25/25 [==============================] - 0s 2ms/step - loss: 0.2017 - accuracy: 0.6915 - val_loss: 0.1990 - val_accuracy: 0.7178\n",
      "Epoch 171/300\n",
      "25/25 [==============================] - 0s 3ms/step - loss: 0.2014 - accuracy: 0.6915 - val_loss: 0.1988 - val_accuracy: 0.7079\n",
      "Epoch 172/300\n",
      "25/25 [==============================] - 0s 2ms/step - loss: 0.2011 - accuracy: 0.6893 - val_loss: 0.1998 - val_accuracy: 0.7079\n",
      "Epoch 173/300\n"
     ]
    },
    {
     "name": "stdout",
     "output_type": "stream",
     "text": [
      "25/25 [==============================] - 0s 2ms/step - loss: 0.2015 - accuracy: 0.6976 - val_loss: 0.1989 - val_accuracy: 0.7129\n",
      "Epoch 174/300\n",
      "25/25 [==============================] - 0s 2ms/step - loss: 0.2012 - accuracy: 0.6987 - val_loss: 0.1998 - val_accuracy: 0.7079\n",
      "Epoch 175/300\n",
      "25/25 [==============================] - 0s 2ms/step - loss: 0.2010 - accuracy: 0.6899 - val_loss: 0.2005 - val_accuracy: 0.7030\n",
      "Epoch 176/300\n",
      "25/25 [==============================] - 0s 2ms/step - loss: 0.2010 - accuracy: 0.6893 - val_loss: 0.1991 - val_accuracy: 0.6980\n",
      "Epoch 177/300\n",
      "25/25 [==============================] - 0s 2ms/step - loss: 0.2027 - accuracy: 0.6949 - val_loss: 0.1983 - val_accuracy: 0.7228\n",
      "Epoch 178/300\n",
      "25/25 [==============================] - 0s 2ms/step - loss: 0.2017 - accuracy: 0.6960 - val_loss: 0.1981 - val_accuracy: 0.7079\n",
      "Epoch 179/300\n",
      "25/25 [==============================] - 0s 2ms/step - loss: 0.2016 - accuracy: 0.6971 - val_loss: 0.1985 - val_accuracy: 0.7178\n",
      "Epoch 180/300\n",
      "25/25 [==============================] - 0s 2ms/step - loss: 0.2004 - accuracy: 0.6987 - val_loss: 0.1982 - val_accuracy: 0.7030\n",
      "Epoch 181/300\n",
      "25/25 [==============================] - 0s 2ms/step - loss: 0.2005 - accuracy: 0.6904 - val_loss: 0.1989 - val_accuracy: 0.7079\n",
      "Epoch 182/300\n",
      "25/25 [==============================] - 0s 2ms/step - loss: 0.2003 - accuracy: 0.6965 - val_loss: 0.1989 - val_accuracy: 0.7030\n",
      "Epoch 183/300\n",
      "25/25 [==============================] - 0s 2ms/step - loss: 0.2006 - accuracy: 0.6926 - val_loss: 0.1987 - val_accuracy: 0.7079\n",
      "Epoch 184/300\n",
      "25/25 [==============================] - 0s 2ms/step - loss: 0.2001 - accuracy: 0.6987 - val_loss: 0.2012 - val_accuracy: 0.6931\n",
      "Epoch 185/300\n",
      "25/25 [==============================] - 0s 2ms/step - loss: 0.2004 - accuracy: 0.6971 - val_loss: 0.1986 - val_accuracy: 0.7129\n",
      "Epoch 186/300\n",
      "25/25 [==============================] - 0s 2ms/step - loss: 0.2016 - accuracy: 0.6987 - val_loss: 0.1980 - val_accuracy: 0.7178\n",
      "Epoch 187/300\n",
      "25/25 [==============================] - 0s 2ms/step - loss: 0.2009 - accuracy: 0.6888 - val_loss: 0.1980 - val_accuracy: 0.7079\n",
      "Epoch 188/300\n",
      "25/25 [==============================] - 0s 2ms/step - loss: 0.2005 - accuracy: 0.6971 - val_loss: 0.1987 - val_accuracy: 0.7079\n",
      "Epoch 189/300\n",
      "25/25 [==============================] - 0s 2ms/step - loss: 0.2013 - accuracy: 0.6998 - val_loss: 0.1984 - val_accuracy: 0.7079\n",
      "Epoch 190/300\n",
      "25/25 [==============================] - 0s 2ms/step - loss: 0.2013 - accuracy: 0.7009 - val_loss: 0.1975 - val_accuracy: 0.7178\n",
      "Epoch 191/300\n",
      "25/25 [==============================] - 0s 3ms/step - loss: 0.2011 - accuracy: 0.6949 - val_loss: 0.1979 - val_accuracy: 0.7129\n",
      "Epoch 192/300\n",
      "25/25 [==============================] - 0s 2ms/step - loss: 0.2008 - accuracy: 0.6998 - val_loss: 0.1985 - val_accuracy: 0.7129\n",
      "Epoch 193/300\n",
      "25/25 [==============================] - 0s 2ms/step - loss: 0.2006 - accuracy: 0.6938 - val_loss: 0.2001 - val_accuracy: 0.6832\n",
      "Epoch 194/300\n",
      "25/25 [==============================] - 0s 2ms/step - loss: 0.2000 - accuracy: 0.7020 - val_loss: 0.1985 - val_accuracy: 0.7079\n",
      "Epoch 195/300\n",
      "25/25 [==============================] - 0s 2ms/step - loss: 0.2008 - accuracy: 0.6960 - val_loss: 0.1995 - val_accuracy: 0.7129\n",
      "Epoch 196/300\n",
      "25/25 [==============================] - 0s 2ms/step - loss: 0.2004 - accuracy: 0.6949 - val_loss: 0.1992 - val_accuracy: 0.6931\n",
      "Epoch 197/300\n",
      "25/25 [==============================] - 0s 2ms/step - loss: 0.2001 - accuracy: 0.6965 - val_loss: 0.1996 - val_accuracy: 0.6782\n",
      "Epoch 198/300\n",
      "25/25 [==============================] - 0s 2ms/step - loss: 0.1996 - accuracy: 0.6932 - val_loss: 0.1980 - val_accuracy: 0.7129\n",
      "Epoch 199/300\n",
      "25/25 [==============================] - 0s 2ms/step - loss: 0.2004 - accuracy: 0.6904 - val_loss: 0.1982 - val_accuracy: 0.7079\n",
      "Epoch 200/300\n",
      "25/25 [==============================] - 0s 2ms/step - loss: 0.1995 - accuracy: 0.6915 - val_loss: 0.1983 - val_accuracy: 0.7079\n",
      "Epoch 201/300\n",
      "25/25 [==============================] - 0s 2ms/step - loss: 0.1998 - accuracy: 0.6938 - val_loss: 0.1977 - val_accuracy: 0.7079\n",
      "Epoch 202/300\n",
      "25/25 [==============================] - 0s 2ms/step - loss: 0.1996 - accuracy: 0.6915 - val_loss: 0.1977 - val_accuracy: 0.7079\n",
      "Epoch 203/300\n",
      "25/25 [==============================] - 0s 2ms/step - loss: 0.2006 - accuracy: 0.6893 - val_loss: 0.1976 - val_accuracy: 0.7178\n",
      "Epoch 204/300\n",
      "25/25 [==============================] - 0s 2ms/step - loss: 0.1995 - accuracy: 0.6938 - val_loss: 0.1987 - val_accuracy: 0.6881\n",
      "Epoch 205/300\n",
      "25/25 [==============================] - 0s 3ms/step - loss: 0.1994 - accuracy: 0.6960 - val_loss: 0.1979 - val_accuracy: 0.7129\n"
     ]
    }
   ],
   "source": [
    "history = model.fit(X_train, y_train, batch_size=75, epochs=300, validation_data=(X_test, y_test),callbacks=[early_stopping])"
   ]
  },
  {
   "cell_type": "markdown",
   "metadata": {},
   "source": [
    "The training and testing accuracies increase together, this plot help us to check if there is overfitting, in this case there is not overfitting."
   ]
  },
  {
   "cell_type": "code",
   "execution_count": 63,
   "metadata": {},
   "outputs": [],
   "source": [
    "import matplotlib.pyplot as plt"
   ]
  },
  {
   "cell_type": "code",
   "execution_count": 64,
   "metadata": {},
   "outputs": [
    {
     "data": {
      "text/plain": [
       "<matplotlib.legend.Legend at 0x7fccd860f0b8>"
      ]
     },
     "execution_count": 64,
     "metadata": {},
     "output_type": "execute_result"
    },
    {
     "data": {
      "image/png": "[encoded data removed]",
      "text/plain": [
       "<Figure size 1440x576 with 1 Axes>"
      ]
     },
     "metadata": {
      "needs_background": "light"
     },
     "output_type": "display_data"
    }
   ],
   "source": [
    "# Plotting the Model Accuracy & Model Loss vs Epochs (Hidden Input)\n",
    "plt.figure(figsize=[20,8])\n",
    "\n",
    "# summarize history for accuracy\n",
    "plt.subplot(1,2,1)\n",
    "plt.plot(history.history['accuracy'])\n",
    "plt.plot(history.history['val_accuracy'])\n",
    "plt.title('Model Accuracy', size=25, pad=20)\n",
    "plt.ylabel('Accuracy', size=15)\n",
    "plt.xlabel('Epoch', size=15)\n",
    "plt.legend(['train', 'test'], loc='upper left')\n",
    "# summarize history for loss"
   ]
  },
  {
   "cell_type": "markdown",
   "metadata": {},
   "source": [
    "In the training and testing losses is the same case, the losses decrease together, the EarlyStopping keep them on a good limit, avoiding overfitting."
   ]
  },
  {
   "cell_type": "code",
   "execution_count": 65,
   "metadata": {},
   "outputs": [
    {
     "data": {
      "text/plain": [
       "<matplotlib.legend.Legend at 0x7fccd858c240>"
      ]
     },
     "execution_count": 65,
     "metadata": {},
     "output_type": "execute_result"
    },
    {
     "data": {
      "image/png": "[encoded data removed]",
      "text/plain": [
       "<Figure size 432x288 with 1 Axes>"
      ]
     },
     "metadata": {
      "needs_background": "light"
     },
     "output_type": "display_data"
    }
   ],
   "source": [
    "plt.plot(history.history['loss'])\n",
    "plt.plot(history.history['val_loss'])\n",
    "plt.title('Model Loss', size=25, pad=20)\n",
    "plt.ylabel('Loss', size=15)\n",
    "plt.xlabel('Epoch', size=15)\n",
    "plt.legend(['train', 'test'], loc='upper left')"
   ]
  },
  {
   "cell_type": "markdown",
   "metadata": {},
   "source": [
    "ROC Curve"
   ]
  },
  {
   "cell_type": "code",
   "execution_count": 66,
   "metadata": {},
   "outputs": [],
   "source": [
    "from sklearn.metrics import roc_curve\n",
    "y_pred_keras = model.predict(X_test).ravel()\n",
    "fpr_keras, tpr_keras, thresholds_keras = roc_curve(y_test, y_pred_keras)"
   ]
  },
  {
   "cell_type": "code",
   "execution_count": 67,
   "metadata": {},
   "outputs": [],
   "source": [
    "from sklearn.metrics import auc\n",
    "auc_keras = auc(fpr_keras, tpr_keras)"
   ]
  },
  {
   "cell_type": "code",
   "execution_count": 68,
   "metadata": {},
   "outputs": [
    {
     "data": {
      "image/png": "[encoded data removed]",
      "text/plain": [
       "<Figure size 432x288 with 1 Axes>"
      ]
     },
     "metadata": {
      "needs_background": "light"
     },
     "output_type": "display_data"
    }
   ],
   "source": [
    "plt.figure(1)\n",
    "plt.plot([0, 1], [0, 1], 'k--')\n",
    "plt.plot(fpr_keras, tpr_keras, label='Keras (area = {:.3f})'.format(auc_keras))\n",
    "plt.xlabel('False positive rate')\n",
    "plt.ylabel('True positive rate')\n",
    "plt.title('ROC curve')\n",
    "plt.legend(loc='best')\n",
    "plt.show()"
   ]
  },
  {
   "cell_type": "code",
   "execution_count": 69,
   "metadata": {},
   "outputs": [],
   "source": [
    "y_pred = model.predict(X_test)\n",
    "y_pred = y_pred > 0.5"
   ]
  },
  {
   "cell_type": "code",
   "execution_count": 70,
   "metadata": {},
   "outputs": [],
   "source": [
    "from sklearn.metrics import confusion_matrix\n",
    "cm = confusion_matrix(y_test, y_pred)"
   ]
  },
  {
   "cell_type": "markdown",
   "metadata": {},
   "source": [
    "# Confusion Matrix\n",
    "We used a threshold of 0.5 to identify the water which are enough pure to drink. In the confusion matrix we can identify that our model better predicts non-potable water, this because from our dataset we have 1,200 rows with non-potable water and 811 rows with potable water, our model had the oportunity to learn with the same proportion."
   ]
  },
  {
   "cell_type": "code",
   "execution_count": 71,
   "metadata": {},
   "outputs": [],
   "source": [
    "import seaborn as sns"
   ]
  },
  {
   "cell_type": "code",
   "execution_count": 72,
   "metadata": {},
   "outputs": [
    {
     "data": {
      "text/plain": [
       "Text(0.5, 15.0, 'Predicted label')"
      ]
     },
     "execution_count": 72,
     "metadata": {},
     "output_type": "execute_result"
    },
    {
     "data": {
      "image/png": "[encoded data removed]",
      "text/plain": [
       "<Figure size 432x288 with 2 Axes>"
      ]
     },
     "metadata": {
      "needs_background": "light"
     },
     "output_type": "display_data"
    }
   ],
   "source": [
    "p = sns.heatmap(pd.DataFrame(cm), annot=True, cmap=\"YlGnBu\" ,fmt='g')\n",
    "plt.title('Confusion matrix', y=1.1)\n",
    "plt.ylabel('Actual label')\n",
    "plt.xlabel('Predicted label')"
   ]
  },
  {
   "cell_type": "markdown",
   "metadata": {},
   "source": [
    "# Conclusions\n",
    "The investigation of methods for identifying drinking water has a high relevance in the actuality beacuse the WHO has said that in 2025, half of the world population are going to live in lack of water.\n",
    "\n",
    "The ANN developed in this notebook, doesn't have the best performance,I got less tha 70% in AUC in the ROC Curve, this because some factors: the small dataset, the quality and amount of explanatory variables we have, the diference between the number of rows that represent potable and non-potable water. However, the behavior of the loss function is really good. In this notebook we used a 0.5 treshold for the clasification, but in the real life we need to consult an expert for better results, this can save or damage people."
   ]
  },
  {
   "cell_type": "code",
   "execution_count": null,
   "metadata": {},
   "outputs": [],
   "source": []
  }
 ],
 "metadata": {
  "kernelspec": {
   "display_name": "Python 3",
   "language": "python",
   "name": "python3"
  },
  "language_info": {
   "codemirror_mode": {
    "name": "ipython",
    "version": 3
   },
   "file_extension": ".py",
   "mimetype": "text/x-python",
   "name": "python",
   "nbconvert_exporter": "python",
   "pygments_lexer": "ipython3",
   "version": "3.7.3"
  }
 },
 "nbformat": 4,
 "nbformat_minor": 2
}
